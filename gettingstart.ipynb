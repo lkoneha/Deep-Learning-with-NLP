{
  "nbformat": 4,
  "nbformat_minor": 0,
  "metadata": {
    "colab": {
      "provenance": [],
      "authorship_tag": "ABX9TyMJocHl4aveAWMOf1W4/pFz",
      "include_colab_link": true
    },
    "kernelspec": {
      "name": "python3",
      "display_name": "Python 3"
    },
    "language_info": {
      "name": "python"
    }
  },
  "cells": [
    {
      "cell_type": "markdown",
      "metadata": {
        "id": "view-in-github",
        "colab_type": "text"
      },
      "source": [
        "<a href=\"https://colab.research.google.com/github/lkoneha/Deep-Learning-with-NLP/blob/main/gettingstart.ipynb\" target=\"_parent\"><img src=\"https://colab.research.google.com/assets/colab-badge.svg\" alt=\"Open In Colab\"/></a>"
      ]
    },
    {
      "cell_type": "code",
      "execution_count": null,
      "metadata": {
        "id": "XJW5zdUe8DUS"
      },
      "outputs": [],
      "source": [
        "import tensorflow.compat.v1 as tf\n",
        "tf.disable_v2_behavior()\n",
        "import numpy as np\n"
      ]
    },
    {
      "cell_type": "code",
      "source": [
        "g=tf.Graph()\n",
        "sess=tf.InteractiveSession(graph=g)"
      ],
      "metadata": {
        "id": "2PEPIABj8rwp"
      },
      "execution_count": null,
      "outputs": []
    },
    {
      "cell_type": "code",
      "source": [
        "x=tf.placeholder(shape=[1,10],dtype=tf.float32,name='x')\n",
        "W=tf.Variable(tf.random_uniform(shape=[10,5], minval=-0.1, maxval=0.1, dtype=tf.float32),name='W')\n",
        "b=tf.Variable(tf.zeros(shape=[5], dtype=tf.float32),name='b')\n",
        "h=tf.nn.sigmoid(tf.matmul(x,W)+b)"
      ],
      "metadata": {
        "id": "4YSKooASAwtp"
      },
      "execution_count": null,
      "outputs": []
    },
    {
      "cell_type": "code",
      "source": [
        "tf.global_variables_initializer().run(session=sess)\n",
        "h_eval=sess.run(h, feed_dict={x: np.random.rand(1,10)})\n",
        "print(h)\n",
        "print(h_eval)\n",
        "sess.close()"
      ],
      "metadata": {
        "colab": {
          "base_uri": "https://localhost:8080/"
        },
        "id": "sNoHImacEGtZ",
        "outputId": "5cab12b2-938d-4fba-c1bf-b3db0b4b40d4"
      },
      "execution_count": null,
      "outputs": [
        {
          "output_type": "stream",
          "name": "stdout",
          "text": [
            "Tensor(\"Sigmoid:0\", shape=(1, 5), dtype=float32)\n",
            "[[0.45593423 0.4727036  0.522597   0.50288224 0.52617365]]\n"
          ]
        }
      ]
    }
  ]
}